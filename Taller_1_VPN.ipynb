{
  "nbformat": 4,
  "nbformat_minor": 0,
  "metadata": {
    "colab": {
      "provenance": [],
      "authorship_tag": "ABX9TyMlN+4b1M2ujFoXVPN0yLW5",
      "include_colab_link": true
    },
    "kernelspec": {
      "name": "python3",
      "display_name": "Python 3"
    },
    "language_info": {
      "name": "python"
    }
  },
  "cells": [
    {
      "cell_type": "markdown",
      "metadata": {
        "id": "view-in-github",
        "colab_type": "text"
      },
      "source": [
        "<a href=\"https://colab.research.google.com/github/AndreaMayo395/Taller-No-1-VPN-Nidia-Andrea-Mayorga-Agudelo/blob/main/Taller_1_VPN.ipynb\" target=\"_parent\"><img src=\"https://colab.research.google.com/assets/colab-badge.svg\" alt=\"Open In Colab\"/></a>"
      ]
    },
    {
      "cell_type": "markdown",
      "source": [
        "# Valor Presente Neto (VPN)\n",
        "\n",
        "El **Valor Presente Neto (VPN)** es un criterio de evaluación financiera que mide la capacidad de un proyecto o inversión de **generar valor** después de recuperar la inversión inicial y considerar el costo del dinero en el tiempo.  \n",
        "\n",
        "\n",
        "En otras palabras, convierte todos los **flujos de caja futuros** de un proyecto a su **valor en el presente** (descontándolos con una tasa de referencia), y luego resta la inversión inicial.  \n",
        "\n",
        "\n",
        "## Fórmula del VPN\n",
        "\\\n",
        "$$VPN = \\sum_{t=1}^{n} \\frac{C_t}{(1+r)^t} - C_0$$\n",
        "\n",
        "\n",
        "\n",
        "Donde:\n",
        "- $C_t$: es el flujo de caja en el periodo $t$  \n",
        "- $C_0$: es la inversión inicial\n",
        "- $r$: es la tasa de descuento  \n",
        "- $n$: son el número de periodos\n",
        "- $t$: periodo de tiempo (1, 2, …, $n$)\n",
        "\n",
        "\n",
        "\n",
        "## Referencias útiles\n",
        "- [Wikipedia: Valor Presente Neto](https://es.wikipedia.org/wiki/Valor_actual_neto)  \n",
        "- [BBVA Explicación de VPN](https://www.bbva.com/es/que-es-el-valor-presente-neto-vpn/)  \n",
        "- [Coursera - Conceptos Financieros](https://www.coursera.org/lecture/introduccion-finanzas/valor-presente-neto-vpn-3mQ0c)  \n",
        "\n"
      ],
      "metadata": {
        "id": "c5YvwgEwneHY"
      }
    },
    {
      "cell_type": "markdown",
      "source": [
        "#Descripción del proyecto\n",
        "La empresa Café Andino S.A.S., está evaluando comprar una nueva tostadora industrial para ampliar su producción.\n",
        "\n",
        "La inversión inicial que tendría que hacer hoy es de ${$12.000}$ . A cambio, la máquina generará flujos de caja de ${$4.500}$ al final de cada año durante **cuatro** años. La empresa considera que su tasa de descuento es del **8%**, porque ese es su costo de capital (lo que “exigen” sus inversionistas como rentabilidad mínima).\n"
      ],
      "metadata": {
        "id": "0J4gwmqUt-6S"
      }
    },
    {
      "cell_type": "markdown",
      "source": [
        "1. Se van a declarar las variables para el siguiente cálculo del VPN."
      ],
      "metadata": {
        "id": "vr_QTcUfwAt1"
      }
    },
    {
      "cell_type": "code",
      "source": [
        "inversion_inicial = 12000\n",
        "flujo_ano_1 = 4500\n",
        "flujo_ano_2 = 4500\n",
        "flujo_ano_3 = 4500\n",
        "flujo_ano_4 = 4500\n",
        "tasa_descuento = 0.08"
      ],
      "metadata": {
        "id": "YwmgzqIpwKq-"
      },
      "execution_count": 21,
      "outputs": []
    },
    {
      "cell_type": "markdown",
      "source": [
        "2. Con las variables ya declaradas, se va a proceder a realizar el cálculo del VPN."
      ],
      "metadata": {
        "id": "x2Km3061xGUT"
      }
    },
    {
      "cell_type": "code",
      "source": [
        "vpn = (flujo_ano_1 / (1 + tasa_descuento)**1) + \\\n",
        "      (flujo_ano_2 / (1 + tasa_descuento)**2) + \\\n",
        "      (flujo_ano_3 / (1 + tasa_descuento)**3) + \\\n",
        "      (flujo_ano_4 / (1 + tasa_descuento)**4)  - inversion_inicial\n",
        "\n",
        "print(\"El Valor Presente Neto (VPN) es:\", vpn)"
      ],
      "metadata": {
        "colab": {
          "base_uri": "https://localhost:8080/"
        },
        "id": "CYj9RIkuxWJc",
        "outputId": "1d377f8a-c16f-4572-f33e-5ed24c374817"
      },
      "execution_count": null,
      "outputs": [
        {
          "output_type": "stream",
          "name": "stdout",
          "text": [
            "El Valor Presente Neto (VPN) es: 2904.570780199494\n"
          ]
        }
      ]
    },
    {
      "cell_type": "markdown",
      "source": [
        "3. Realizado el cálculo, interpretaremos el resultado para determinar la viabilidad del proyecto.\n",
        "\n",
        "\n"
      ],
      "metadata": {
        "id": "HEwDP-2PzceZ"
      }
    },
    {
      "cell_type": "code",
      "source": [
        "if vpn > 0:\n",
        "    print(\"El proyecto es viable, ya que el VPN es positivo.\")\n",
        "else:\n",
        "    print(\"El proyecto no es viable, ya que el VPN es negativo.\")"
      ],
      "metadata": {
        "colab": {
          "base_uri": "https://localhost:8080/"
        },
        "id": "HaBtDN3Xzc12",
        "outputId": "1557a6b0-f648-4c98-e863-29992294719f"
      },
      "execution_count": null,
      "outputs": [
        {
          "output_type": "stream",
          "name": "stdout",
          "text": [
            "El proyecto es viable, ya que el VPN es positivo.\n"
          ]
        }
      ]
    }
  ]
}